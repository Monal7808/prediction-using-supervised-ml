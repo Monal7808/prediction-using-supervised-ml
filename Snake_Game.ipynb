{
  "nbformat": 4,
  "nbformat_minor": 0,
  "metadata": {
    "colab": {
      "name": "Untitled9.ipynb",
      "provenance": [],
      "authorship_tag": "ABX9TyMY1Bskd2KjybuSvMBShQXx",
      "include_colab_link": true
    },
    "kernelspec": {
      "name": "python3",
      "display_name": "Python 3"
    },
    "language_info": {
      "name": "python"
    }
  },
  "cells": [
    {
      "cell_type": "markdown",
      "metadata": {
        "id": "view-in-github",
        "colab_type": "text"
      },
      "source": [
        "<a href=\"https://colab.research.google.com/github/Monal7808/prediction-using-supervised-ml/blob/main/Snake_Game.ipynb\" target=\"_parent\"><img src=\"https://colab.research.google.com/assets/colab-badge.svg\" alt=\"Open In Colab\"/></a>"
      ]
    },
    {
      "cell_type": "code",
      "execution_count": null,
      "metadata": {
        "colab": {
          "base_uri": "https://localhost:8080/"
        },
        "id": "9dbAIrH5rMRL",
        "outputId": "a7e46875-0292-4903-ebd9-5510f6446bab"
      },
      "outputs": [
        {
          "metadata": {
            "tags": null
          },
          "name": "stdout",
          "output_type": "stream",
          "text": [
            " \t \t \t \t Snake,Water,Gun Game\n",
            " \n",
            "\n",
            "s for snake \n",
            "w for water \n",
            "g for gun \n",
            "\n"
          ]
        }
      ],
      "source": [
        "# Snake water gun\n",
        "\n",
        "import random\n",
        "lst = ['s','w','g']\n",
        "\n",
        "chance = 10\n",
        "no_of_chance = 0\n",
        "computer_point = 0\n",
        "human_point = 0\n",
        "\n",
        "print(\" \\t \\t \\t \\t Snake,Water,Gun Game\\n \\n\")\n",
        "print(\"s for snake \\nw for water \\ng for gun \\n\")\n",
        "\n",
        "# making the game in while\n",
        "while no_of_chance < chance:\n",
        "    _input = input('Snake,Water,Gun:')\n",
        "    _random = random.choice(lst)\n",
        "\n",
        "    if _input == _random:\n",
        "        print(\"Tie Both 0 point to each \\n \")\n",
        "\n",
        "    # if user enter s\n",
        "    elif _input == \"s\" and _random == \"g\":\n",
        "        computer_point = computer_point + 1\n",
        "        print(f\"your guess {_input} and computer guess is {_random} \\n\")\n",
        "        print(\"computer wins 1 point \\n\")\n",
        "        print(f\"computer_point is {computer_point} and your point is {human_point} \\n \")\n",
        "\n",
        "    elif _input == \"s\" and _random == \"w\":\n",
        "        human_point = human_point + 1\n",
        "        print(f\"your guess {_input} and computer guess is {_random} \\n\")\n",
        "        print(\"Human wins 1 point \\n\")\n",
        "        print(f\"computer_point is {computer_point} and your point is {human_point} \\n\")\n",
        "\n",
        "    # if user enter w\n",
        "    elif _input == \"w\" and _random == \"s\":\n",
        "        computer_point = computer_point + 1\n",
        "        print(f\"your guess {_input} and computer guess is {_random} \\n\")\n",
        "        print(\"computer wins 1 point \\n\")\n",
        "        print(f\"computer_point is {computer_point} and your point is {human_point} \\n \")\n",
        "\n",
        "    elif _input == \"w\" and _random == \"g\":\n",
        "        human_point = human_point + 1\n",
        "        print(f\"your guess {_input} and computer guess is {_random} \\n\")\n",
        "        print(\"Human wins 1 point \\n\")\n",
        "        print(f\"computer_point is {computer_point} and your point is {human_point} \\n\")\n",
        "\n",
        "    # if user enter g\n",
        "\n",
        "    elif _input == \"g\" and _random == \"s\":\n",
        "        human_point = human_point + 1\n",
        "        print(f\"your guess {_input} and computer guess is {_random} \\n\")\n",
        "        print(\"Human wins 1 point \\n\")\n",
        "        print(f\"computer_point is {computer_point} and your point is {human_point} \\n\")\n",
        "\n",
        "\n",
        "    elif _input == \"g\" and _random == \"w\":\n",
        "        computer_point = computer_point + 1\n",
        "        print(f\"your guess {_input} and computer guess is {_random} \\n\")\n",
        "        print(\"computer wins 1 point \\n\")\n",
        "        print(f\"computer_point is {computer_point} and your point is {human_point} \\n \")\n",
        "\n",
        "    else:\n",
        "        print(\"you have input wrong \\n\")\n",
        "\n",
        "    no_of_chance = no_of_chance + 1\n",
        "    print(f\"{chance - no_of_chance} is left out of {chance} \\n\")\n",
        "\n",
        "print(\"Game over\")\n",
        "\n",
        "if computer_point==human_point:\n",
        "    print(\"Tie\")\n",
        "\n",
        "elif computer_point > human_point:\n",
        "    print(\"Computer wins and you loose\")\n",
        "\n",
        "else:\n",
        "    print(\"you win and computer loose\")\n",
        "\n",
        "print(f\"your point is {human_point} and computer point is {computer_point}\")\n",
        "\n",
        "#\n",
        "# Snake Water Gun Game in Python\n",
        "# The snake drinks the water, the gun shoots the snake, and gun has no effect on water.\n",
        "#\n",
        "\n",
        "  \n"
      ]
    }
  ]
}